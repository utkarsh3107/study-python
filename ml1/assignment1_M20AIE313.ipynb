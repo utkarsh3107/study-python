{
 "cells": [
  {
   "cell_type": "markdown",
   "id": "renewable-mainland",
   "metadata": {},
   "source": [
    "#### Q1. Explain any three new evaluation metrics (other than discussed in class) with proper explanation and analysis"
   ]
  },
  {
   "cell_type": "markdown",
   "id": "healthy-truth",
   "metadata": {},
   "source": [
    "##### F Beta Score\n",
    "\n",
    "> The Fbeta-measure is calculated using precision and recall.<br/>\n",
    "> **Precision** is a metric that calculates the percentage of correct predictions for the positive class.<br/>\n",
    "  *Precision = TruePositives / (TruePositives + FalsePositives)*\n",
    "\n",
    "> **Recall** calculates the percentage of correct predictions for the positive class out of all positive predictions that could be made. Maximizing precision will minimize the false-positive errors, whereas maximizing recall will minimize the false-negative errors.<br/>\n",
    "*Recall = TruePositives / (TruePositives + FalseNegatives)*\n",
    "\n",
    "> The **F-measure** is calculated as the harmonic mean of precision and recall, giving each the same weighting. It allows a model to be evaluated taking both the precision and recall into account using a single score, which is helpful when describing the performance of the model and in comparing models.\n",
    "\n",
    "> The **Fbeta-measure** is a generalization of the F-measure that adds a configuration parameter called beta. A default beta value is 1.0, which is the same as the F-measure. A smaller beta value, such as 0.5, gives more weight to precision and less to recall, whereas a larger beta value, such as 2.0, gives less weight to precision and more weight to recall in the calculation of the score.\n",
    "\n",
    "    - Precision and recall provide two ways to summarize the errors made for the positive class in a binary classification problem.\n",
    "    - F-measure provides a single score that summarizes the precision and recall.\n",
    "    - Fbeta-measure provides a configurable version of the F-measure to give more or less attention to the precision and recall measure when calculating a single score.\n",
    "\n",
    "> Balance the FalsePositives and FalseNegatives with F-Beta and reduce the FalsePositives and FalseNegatives.\n",
    "  Formulae:<br>\n",
    "  *Fbeta = ((1 + beta^2) * Precision * Recall) / (beta^2 * Precision + Recall)*\n",
    "\n",
    "From formule we can clearly identify that beta is taken into account with Precision which deals with FalsePositive. Hence when we want to put more weight on FalsePositive(i.e Precision) than on FalseNegative we can use a smaller beta value (beta < 1 and when we want more weight to be given to FalseNegative (i.e Recall), we can use a greater value (beta > 1). If we want a balanced value between precision and call we can use beta value as 1.\n",
    "\n",
    ">Rules and Examples:\n",
    "\n",
    ">>F0.5-Measure (beta=0.5):\n",
    "F0.5-measure puts more attention on minimizing false positives than minimizing false negatives. \n",
    "ex. In case of spam check, we want very low false positives because if regular mail is reported as spam, user might lose important information hence we can more focus on precision.\n",
    "\n",
    ">>F2-Measure (beta=2.0): Less weight on precision, more weight on recall.\n",
    "ex. In case of airport we don't want any dangerous items to be boarded into a flight. Hence we want to reduce falseNegatives putting more value on Recall.\n",
    "\n",
    "\n",
    ">Compariosion of F 0.5, F1 & F2\n",
    "Suppose for below scenarios where we have perfect precision and 50% recall.\n",
    "Precision = 1.0\n",
    "Recall = 0.5\n",
    "\n",
    "\n",
    ">>If Beta = 1: \n",
    "F1-Measure = ((1 + 1^2) * Precision * Recall) / (1^2 * Precision + Recall)\n",
    "F1-Measure = (2 * 1.0 * 0.5) / ( 1.0 + 0.5 )\n",
    "F1-Measure = 1.0 / 1.5\n",
    "F1-Measure = 0.666\n",
    "\n",
    "\n",
    ">>If Beta = 0.5\n",
    "F0.5-Measure = ((1 + 0.5^2) * Precision * Recall) / (0.5^2 * Precision + Recall)\n",
    "F0.5-Measure = (1.25 * Precision * Recall) / (0.25 * Precision + Recall)\n",
    "F0.5-Measure = (1.25 * 1.0 * 0.5) / (0.25 * 1.0 + 0.5)\n",
    "F0.5-Measure = 0.625 /0.75\n",
    "F0.5-Measure = 0.833\n",
    "\n",
    "*As in Beta < 1 we want to provide more weightage to the Precision, we can clearly see a higher precision score of 0.83 which is much more than the normal F1 score. We are not getting penalized for the low recall.*\n",
    "\n",
    "\n",
    ">>If Beta = 2.0\n",
    "F2-Measure = ((1 + 2^2) * Precision * Recall) / (2^2 * Precision + Recall)\n",
    "F2-Measure = (5 * Precision * Recall) / (4 * Precision + Recall)\n",
    "F2-Measure = (5 * 1.0 * 0.5) / (4 * 1.0 + 0.5)\n",
    "F2-Measure = 2.5 /4.5\n",
    "F2-Measure = 0.555\n",
    "\n",
    "*As in Beta > 1 we want to provide more weightage to the Recall, we can clearly see a lower score of 0.555 which is much less than the normal F1 score. We are getting penalized for the low recall value.*\n"
   ]
  },
  {
   "cell_type": "markdown",
   "id": "saved-tomato",
   "metadata": {},
   "source": [
    "##### Cohen Kappa\n",
    "\n",
    "Cohen’s kappa is a metric often used to assess the agreement between two raters. It can also be used to assess the performance of a classification model.\n",
    "\n",
    "Like many other evaluation metrics, Cohen’s kappa is calculated based on the confusion matrix. However, in contrast to calculating overall accuracy, Cohen’s kappa takes imbalance in class distribution into account\n",
    "\n",
    "For example, if we had two bankers and we asked both to classify 100 customers in two classes for credit rating (i.e., good and bad) based on their creditworthiness, we could then measure the level of their agreement through Cohen’s kappa.\n",
    "\n",
    "> Cohen's Kappa for binary districution <br/>\n",
    "Customer with good rating represent 90% of the data and customer with bad rating represent 10% of the data. A classification model that predicts a rating of all customers as good would reach an accuracy of as high as 90%. Cohen's Kappa tries to correct this bias by taking into account the priori distribution.\n",
    "\n",
    "\n",
    "\n",
    "k = (Po - Pe) / (1 - Pe)\n",
    "Po -> Overall accuracy of the model i.e. is the proportion of observed agreement\n",
    "Pe -> Overall accuracy that can be reached with a random guess i.e. the Expected Accuracy, the level of Accuracy we expect to obtain by chance.\n",
    "1- Pe -> is the maximum value of this difference as give by a perfect model with accuracy of 100%\n",
    "\n",
    "\n",
    "To calucate overall accuracy for a random guess Pe, we make a strong assumption that the model predictions are not affected by the priori distribution of the target class. This assumption is often violated when working with unbalanced data since the classification model tends to predict the majority class in case of uncertinity.\n",
    "\n",
    "However be caeful when you compare cohen kappa values between models, because cohen's kappa tends to be higher when the target classes are balanced.\n",
    "\n",
    "Cohen's Kappa is not informative about expected prediction accuracy. The interpretation of cohen's Kappa alues in terms like \"moderate\" is neither easy not fixed."
   ]
  },
  {
   "attachments": {
    "image-2.png": {
     "image/png": "[encoded data removed]"
    }
   },
   "cell_type": "markdown",
   "id": "random-roads",
   "metadata": {},
   "source": [
    "##### Mattheus Correlation Coefficient (MCC)\n",
    "\n",
    "1. The Matthews correlation coefficient (MCC) or phi coefficient is used in machine learning as a measure of the quality of binary (two-class) classifications, introduced by biochemist Brian W. Matthews in 1975.\n",
    "\n",
    "2. The coefficient takes into account true and false positives and negatives and is generally regarded as a balanced measure which can be used even if the classes are of very different sizes\n",
    "\n",
    ">\n",
    "![image-2.png](attachment:image-2.png)\n",
    "\n",
    "3. MCC is a tool for model evaluation. It measures the differences between actual values and predicted values and is equivalent to the chi-square statistic for a 2 x 2 contingency table.\n",
    "     \n",
    "4. MCC is generally regarded as a balanced measure which can be used in binary classification even if the classes are very different in size. The coefficient takes into account true negatives, true positives, false negatives and false positives. This reliable measure produces high scores only if the prediction returns good rates for all four of these categories.\n",
    "     \n",
    "Like most correlation coefficients, MCC ranges between -1 and 1:\n",
    "    - 1 is the best agreement between actuals and predictions,\n",
    "    - zero is no agreement at all. In other words, the prediction is random with respect to actuals.\n",
    "\n",
    ">MCC for binary distriution\n",
    "As MCC takes into account full confusion matrix below is the formulae for the same.\n",
    "*MCC = TP * TN - FP * FN / ((TP + FP)(TP + FP)(TN + FN)(TN + FP))*\n",
    "\n",
    "\n",
    "Imagine we have a classifier that is trying to differenciate between cats and dogs by identifying them based on their images. Below is the confusion matrix:\n",
    "    \n",
    "    || Cat | Dog |  |\n",
    "    |cat| 109 | 1 | 110 |\n",
    "    |Dog| 9 | 1 | 10 |\n",
    "    || 118 | 2 | 120 |\n",
    "    \n",
    "    We can see we have predicted only 1 out of 10 dog correctly while 109 cats were correctly identified.\n",
    "    \n",
    "      Scenario 1: \n",
    "        cats are positive  \n",
    "        dogs are negative\n",
    "    \n",
    "    | Evaluation Matrix | Value | \n",
    "    | :- | -: |\n",
    "    | **Accuracy** | (109 + 1)/ 120 = 0.92 |\n",
    "    | **Precision** | 109/ (109+9) = 0.92 |\n",
    "    | **Recall** | 109/ (109+1) = 0.99  |\n",
    "    | **F1 Score** | 0.95  |\n",
    "    \n",
    "    Scenario 2: \n",
    "        cats are negative  \n",
    "        dogs are positive\n",
    " \n",
    "     | Evaluation Matrix | Value | \n",
    "    | :- | -: |\n",
    "    | **Accuracy** | (109 + 1)/ 120 = 0.92 |\n",
    "    | **Precision** | 1/ (1+1) = 0.50 |\n",
    "    | **Recall** | 1/ (9+1) = 0.10  |\n",
    "    | **F1 Score** | 0.16  |\n",
    "\n",
    "\n",
    "F1 score does not take into account TN at all which is the reason of this drop in percentage.\n",
    "    \n",
    "    Using MCC formule we get a value **MCC = 0.21**. MCC has a low value which suggests that even with a high positive class results it still gave us poor score because our negative class was not well predicted (1 out of 10 was predicted correctly)."
   ]
  },
  {
   "cell_type": "markdown",
   "id": "cardiac-lying",
   "metadata": {},
   "source": [
    "#### Q2. Evaluate the performance of the predictions using different evaluation metrics"
   ]
  },
  {
   "cell_type": "code",
   "execution_count": 1,
   "id": "regulation-milwaukee",
   "metadata": {},
   "outputs": [
    {
     "name": "stdout",
     "output_type": "stream",
     "text": [
      "     Predicted Class  Actual Class\n",
      "0                  0             0\n",
      "1                  0             0\n",
      "2                  1             0\n",
      "3                  0             0\n",
      "4                  0             0\n",
      "..               ...           ...\n",
      "155                3             3\n",
      "156                3             3\n",
      "157                3             3\n",
      "158                2             3\n",
      "159                0             3\n",
      "\n",
      "[160 rows x 2 columns]\n"
     ]
    }
   ],
   "source": [
    "#reading the csv file\n",
    "import pandas as pd\n",
    "import numpy as np\n",
    "\n",
    "df = pd.read_excel(\"dataset.xlsx\")\n",
    "print(df)"
   ]
  },
  {
   "cell_type": "code",
   "execution_count": 2,
   "id": "silver-gathering",
   "metadata": {},
   "outputs": [
    {
     "name": "stdout",
     "output_type": "stream",
     "text": [
      "     y_predicted  y_actual\n",
      "0              0         0\n",
      "1              0         0\n",
      "2              1         0\n",
      "3              0         0\n",
      "4              0         0\n",
      "..           ...       ...\n",
      "155            3         3\n",
      "156            3         3\n",
      "157            3         3\n",
      "158            2         3\n",
      "159            0         3\n",
      "\n",
      "[160 rows x 2 columns]\n"
     ]
    }
   ],
   "source": [
    "#renaming the columns\n",
    "df.rename({'Predicted Class':'y_predicted','Actual Class':'y_actual'},axis=1,inplace=True)\n",
    "print(df)"
   ]
  },
  {
   "attachments": {
    "image.png": {
     "image/png": "[encoded data removed]"
    }
   },
   "cell_type": "markdown",
   "id": "motivated-gardening",
   "metadata": {},
   "source": [
    "**computing tp,fp,tn,fn from confusion matrix**\n",
    "![image.png](attachment:image.png)"
   ]
  },
  {
   "cell_type": "code",
   "execution_count": 3,
   "id": "congressional-cylinder",
   "metadata": {},
   "outputs": [
    {
     "name": "stdout",
     "output_type": "stream",
     "text": [
      "\u001b[1;31mclassification report\u001b[0m\n",
      "              precision    recall  f1-score   support\n",
      "\n",
      "           0      0.846     0.673     0.750        49\n",
      "           1      0.711     0.889     0.790        36\n",
      "           2      0.744     0.725     0.734        40\n",
      "           3      0.730     0.771     0.750        35\n",
      "\n",
      "    accuracy                          0.756       160\n",
      "   macro avg      0.758     0.765     0.756       160\n",
      "weighted avg      0.765     0.756     0.755       160\n",
      "\n",
      "\u001b[1;31mtotal number of classes: \u001b[0m4\n",
      "\u001b[1;31msample size: \u001b[0m160\n",
      "\n",
      "\u001b[1;31mconfusion matrix\u001b[0m\n",
      "y_predicted   0   1   2   3\n",
      "y_actual                   \n",
      "0            33   8   4   4\n",
      "1             1  32   3   0\n",
      "2             3   2  29   6\n",
      "3             2   3   3  27\n",
      "[[33  8  4  4]\n",
      " [ 1 32  3  0]\n",
      " [ 3  2 29  6]\n",
      " [ 2  3  3 27]]\n",
      "\n",
      "\u001b[1;31mtrue positive: \u001b[0m[33 32 29 27]\n",
      "\u001b[1;31mfalse positive: \u001b[0m[ 6 13 10 10]\n",
      "\u001b[1;31mfalse negative: \u001b[0m[16  4 11  8]\n",
      "\u001b[1;31mtrue negative: \u001b[0m[105 111 110 115]\n",
      "\n",
      "\u001b[1;31moverall accuracy : \u001b[0m0.75625\n",
      "\u001b[1;31mclass accuracy (correct predictions/total predictions): \u001b[0m[0.67346939 0.88888889 0.725      0.77142857]\n",
      "\u001b[1;31mclass accuracy from library: \u001b[0m[0.67346939 0.88888889 0.725      0.77142857]\n",
      "\u001b[1;31mclass precision (tp/(tp+fp)): \u001b[0m[0.84615385 0.71111111 0.74358974 0.72972973]\n",
      "\u001b[1;31mclass recall (tp/(tp+fn)): \u001b[0m[0.67346939 0.88888889 0.725      0.77142857]\n",
      "\n",
      "\u001b[1;31mmacro average: \u001b[0m0.7576461076461076\n",
      "\u001b[1;31mmacro average: \u001b[0m0.7576461076461076\n",
      "\u001b[1;31mweighted average: \u001b[0m0.75625\n",
      "\u001b[1;31mweighted average: \u001b[0m0.7646604296604297\n",
      "\n",
      "\u001b[1;31mf1 score: \u001b[0m[0.75       0.79012346 0.73417722 0.75      ]\n",
      "\u001b[1;31mtype1 error (Or) fpr fp/(tn+fp): \u001b[0m[0.05405405 0.10483871 0.08333333 0.08      ]\n",
      "\u001b[1;31mtype1 error (Or) fnr fn/(fn+tp): \u001b[0m[0.32653061 0.11111111 0.275      0.22857143]\n"
     ]
    },
    {
     "name": "stderr",
     "output_type": "stream",
     "text": [
      "/opt/anaconda3/envs/python-ws/lib/python3.8/site-packages/sklearn/utils/validation.py:70: FutureWarning: Pass labels=[0 1 2 3] as keyword args. From version 1.0 (renaming of 0.25) passing these as positional arguments will result in an error\n",
      "  warnings.warn(f\"Pass {args_msg} as keyword args. From version \"\n"
     ]
    }
   ],
   "source": [
    "from sklearn.metrics import confusion_matrix\n",
    "from sklearn.metrics import classification_report\n",
    "from sklearn.metrics import precision_score\n",
    "import numpy as np\n",
    "import math\n",
    "from sklearn.metrics import roc_curve\n",
    "\n",
    "print(\"\\x1b[1;31m\"+\"classification report\"+\"\\x1b[0m\")\n",
    "print(classification_report(df['y_actual'],df['y_predicted'],labels=[0,1,2,3],digits=3))\n",
    "\n",
    "#print total number classes\n",
    "total_classes=df[\"y_actual\"].unique().size\n",
    "print(\"\\x1b[1;31m\"+\"total number of classes: \"+\"\\x1b[0m\"+str(total_classes))\n",
    "#print sample size\n",
    "sample_size=df[\"y_actual\"].size\n",
    "print(\"\\x1b[1;31m\"+\"sample size: \"+\"\\x1b[0m\"+str(sample_size))\n",
    "\n",
    "print(\"\\n\\x1b[1;31m\"+\"confusion matrix\"+\"\\x1b[0m\")\n",
    "#collect the label into a list\n",
    "label=df[\"y_actual\"].unique()\n",
    "#preparing the confusion matrix with inbuild library\n",
    "cf_matrix=confusion_matrix(df[\"y_actual\"],df[\"y_predicted\"],label)\n",
    "#preparing the confusion matrix with the help of cross tab\n",
    "cf_matrix_crosstab=pd.crosstab(df[\"y_actual\"],df[\"y_predicted\"])\n",
    "print(cf_matrix_crosstab)\n",
    "print(cf_matrix)\n",
    "\n",
    "#tn, fp, fn, tp = confusion_matrix(df[\"y_actual\"],df[\"y_predicted\"]).ravel() works for binary classification\n",
    "#computing the true positive\n",
    "true_positive=cf_matrix.diagonal()\n",
    "print(\"\\n\\x1b[1;31m\"+\"true positive: \"+\"\\x1b[0m\"+str(true_positive))\n",
    "#computing the false positive\n",
    "false_positive=cf_matrix.sum(axis=0)-cf_matrix.diagonal()\n",
    "print(\"\\x1b[1;31m\"+\"false positive: \"+\"\\x1b[0m\"+str(false_positive))\n",
    "#computing the false negative\n",
    "false_negative=cf_matrix.sum(axis=1)-cf_matrix.diagonal()\n",
    "print(\"\\x1b[1;31m\"+\"false negative: \"+\"\\x1b[0m\"+str(false_negative))\n",
    "#computing the true negative\n",
    "true_negative=sample_size-(cf_matrix.sum(axis=1)+cf_matrix.sum(axis=0)-cf_matrix.diagonal())\n",
    "print(\"\\x1b[1;31m\"+\"true negative: \"+\"\\x1b[0m\"+str(true_negative))\n",
    "\n",
    "#computing the overall accuracy (sum of correct predictions of all classes/sample siz)\n",
    "overall_accuracy=str(cf_matrix.diagonal().sum()/cf_matrix.sum())\n",
    "print(\"\\n\\x1b[1;31m\"+\"overall accuracy : \"+\"\\x1b[0m\"+overall_accuracy)\n",
    "\n",
    "#class accuracy for balanced data\n",
    "#class_accuracy=(true_positive+true_negative)/(true_positive+true_negative+false_positive+false_negative)\n",
    "#print(\"\\x1b[1;31m\"+\"class accuracy (tp+tn)/(tp+tn+fp+fn): \"+\"\\x1b[0m\"+str(class_accuracy))\n",
    "\n",
    "#class accuracy for imbalanced data (correct predictions/total predictions)\n",
    "class_accuracy=(true_positive)/cf_matrix.sum(axis=1)\n",
    "print(\"\\x1b[1;31m\"+\"class accuracy (correct predictions/total predictions): \"+\"\\x1b[0m\"+str(class_accuracy))\n",
    "cm = cf_matrix.astype('float') / cf_matrix.sum(axis=1)[:, np.newaxis]\n",
    "print(\"\\x1b[1;31m\"+\"class accuracy from library: \"+\"\\x1b[0m\"+str(cm.diagonal()))\n",
    "\n",
    "#computing the precision, reducing the false positive\n",
    "precision=true_positive/(true_positive+false_positive)\n",
    "print(\"\\x1b[1;31m\"+\"class precision (tp/(tp+fp)): \"+\"\\x1b[0m\"+str(precision))\n",
    "                         \n",
    "#computing the recall, reducing the false negative\n",
    "recall=true_positive/(true_positive+false_negative)\n",
    "print(\"\\x1b[1;31m\"+\"class recall (tp/(tp+fn)): \"+\"\\x1b[0m\"+str(recall))\n",
    "\n",
    "#computing the macro average or taking the average of precision\n",
    "macro_average=precision.sum()/precision.size\n",
    "print(\"\\n\\x1b[1;31m\"+\"macro average: \"+\"\\x1b[0m\"+str(macro_average))\n",
    "print(\"\\x1b[1;31m\"+\"macro average: \"+\"\\x1b[0m\"+str(precision_score(df['y_actual'],df['y_predicted'], average='macro')))\n",
    "\n",
    "#computing the weighted average\n",
    "total1=0.0\n",
    "total2=0.0\n",
    "for i in range(0,4):\n",
    "    #(weight1*precision1+weight2*precision2)/(weight1+weight2)\n",
    "    total1=total1+(cf_matrix[:,i].sum()*(cf_matrix.diagonal()[i]/cf_matrix[:,i].sum()))\n",
    "    total2=total2+cf_matrix[:,i].sum()\n",
    "print(\"\\x1b[1;31m\"+\"weighted average: \"+\"\\x1b[0m\"+str(total1/total2))\n",
    "print(\"\\x1b[1;31m\"+\"weighted average: \"+\"\\x1b[0m\"+str(precision_score(df['y_actual'],df['y_predicted'], average='weighted')))\n",
    "\n",
    "#computing the f1 score\n",
    "f1score=2*((recall*precision)/(recall+precision))\n",
    "print(\"\\n\\x1b[1;31m\"+\"f1 score: \"+\"\\x1b[0m\"+str(f1score))\n",
    "\n",
    "# computing the false positive error (fpr)\n",
    "print(\"\\x1b[1;31m\"+\"type1 error (Or) fpr fp/(tn+fp): \"+\"\\x1b[0m\"+str(false_positive/(true_negative+false_positive)))\n",
    "# computing the false negative error (fnr)\n",
    "print(\"\\x1b[1;31m\"+\"type1 error (Or) fnr fn/(fn+tp): \"+\"\\x1b[0m\"+str(false_negative/(false_negative+true_positive)))\n"
   ]
  },
  {
   "cell_type": "markdown",
   "id": "major-arrangement",
   "metadata": {},
   "source": [
    "|       metric        |        manual evaluation     |      sklearn                 |\n",
    "|:--------------------|:-----------------------------|:-----------------------------|\n",
    "| overall accuracy    |          0.75625             |         0.75625              |\n",
    "| class 0 accuracy    |          0.67346939          |         0.67346939           |\n",
    "| class 1 accuracy    |          0.88888889          |         0.88888889           |\n",
    "| class 2 accuracy    |          0.725               |         0.725                |\n",
    "| class 3 accuracy    |          0.77142857          |         0.77142857           |\n",
    "| confustion matrix   |                              |                              |\n",
    "|                     |          33  8  4  4         |         33  8  4  4          |\n",
    "|                     |          1 32  3  0          |         1 32  3  0           |\n",
    "|                     |          3  2 29  6          |         3  2 29  6           |\n",
    "|                     |          2  3  3 27          |         2  3  3 27           |\n",
    "|                     |                              |                              |\n",
    "|                     |                              |                              |\n",
    "|                     |                              |                              |\n",
    "| class 0 precision   |   0.8461538461538461         |   0.846                      |\n",
    "| class 1 precision   |   0.7111111111111111         |   0.711                      |\n",
    "| class 2 precision   |   0.7435897435897436         |   0.744                      |\n",
    "| class 3 precision   |   0.7297297297297297         |   0.730                      |\n",
    "|                     |                              |                              |\n",
    "| class 0 recall      |   0.673469387755102          |   0.673                      |\n",
    "| class 1 recall      |   0.8888888888888888         |   0.889                      |\n",
    "| class 2 recall      |   0.725                      |   0.725                      |\n",
    "| class 3 recall      |   0.7714285714285715         |   0.771                      |\n",
    "|                     |                              |                              |\n",
    "| macro average       |   0.7576461076461076         |   0.7576461076461076         |\n",
    "| weighted average    |   0.7646604296604297         |   0.75625                    |\n",
    "|                     |                              |                              |\n",
    "| class 0 f1 score    |   0.75                       |   0.750                      |\n",
    "| class 1 f1 score    |   0.7901234567901234         |   0.790                      |\n",
    "| class 2 f1 score    |   0.7341772151898733         |   0.734                      |\n",
    "| class 3 f1 score    |   0.75                       |   0.750                      |\n",
    "|                     |                              |                              |\n",
    "| class 0 type1 error |   0.05405405405405406        |                              |\n",
    "| class 1 type1 error |   0.10483870967741936        |                              |\n",
    "| class 2 type1 error |   0.08333333333333333        |                              |\n",
    "| class 3 type1 error |   0.08                       |                              |\n",
    "|                     |                              |                              |\n",
    "| class 0 type2 error |   0.32653061224489793        |   0.32653061224489793        |\n",
    "| class 1 type2 error |   0.1111111111111111         |   0.1111111111111111         |\n",
    "| class 2 type2 error |   0.275                      |   0.275                      |\n",
    "| class 3 type2 error |   0.22857142857142856        |   0.22857142857142856        |\n"
   ]
  },
  {
   "cell_type": "code",
   "execution_count": 4,
   "id": "psychological-justice",
   "metadata": {},
   "outputs": [],
   "source": [
    "#from sklearn import jaccard_similarity_score\n",
    "#from pandas_ml import ConfusionMatrix\n",
    "#cm = ConfusionMatrix(df[\"y_actual\"], df[\"y_predicted\"])\n",
    "#cm.print_stats()"
   ]
  },
  {
   "cell_type": "code",
   "execution_count": 5,
   "id": "realistic-turkey",
   "metadata": {},
   "outputs": [
    {
     "name": "stdout",
     "output_type": "stream",
     "text": [
      "0.6752368064952639\n",
      "0.6752368064952639\n"
     ]
    }
   ],
   "source": [
    "from sklearn.metrics import cohen_kappa_score\n",
    "\n",
    "print(cohen_kappa_score(df['y_actual'], df['y_predicted']))\n",
    "print(cohen_kappa_score(df['y_predicted'], df['y_actual']))"
   ]
  },
  {
   "cell_type": "code",
   "execution_count": 6,
   "id": "powered-clothing",
   "metadata": {},
   "outputs": [
    {
     "name": "stdout",
     "output_type": "stream",
     "text": [
      "0.665\n",
      "0.7282\n",
      "0.6472\n",
      "0.6779\n"
     ]
    },
    {
     "data": {
      "text/plain": [
       "0.6785227135925035"
      ]
     },
     "execution_count": 6,
     "metadata": {},
     "output_type": "execute_result"
    }
   ],
   "source": [
    "from sklearn.metrics import matthews_corrcoef\n",
    "\n",
    "for i in range(4):\n",
    "    print(round ( ((true_positive[i]*true_negative[i])-(false_positive[i]*false_negative[i]))/math.sqrt((true_positive[i]+false_positive[i])*(true_positive[i]+false_negative[i])*(true_negative[i]+false_positive[i])*(true_negative[i]+false_negative[i])),4))\n",
    "\n",
    "matthews_corrcoef(df['y_actual'], df['y_predicted'])"
   ]
  },
  {
   "cell_type": "markdown",
   "id": "common-interface",
   "metadata": {},
   "source": [
    "Reference links:<br/>\n",
    "https://towardsdatascience.com/multi-class-metrics-made-simple-part-i-precision-and-recall-9250280bddc2 <br/>\n",
    "https://www.analyticsvidhya.com/blog/2020/04/confusion-matrix-machine-learning/ <br/>\n",
    "https://scikit-learn.org/stable/modules/model_evaluation.html#classification-metrics <br/>\n",
    "https://machinelearningmastery.com/fbeta-measure-for-machine-learning/ <br/>\n",
    "https://thenewstack.io/cohens-kappa-what-it-is-when-to-use-it-and-how-to-avoid-its-pitfalls/ <br/>\n",
    "https://analyticsindiamag.com/understanding-cohens-kappa-score-with-hands-on-implementation/ <br/>\n",
    "https://towardsdatascience.com/metrics-and-python-850b60710e0c <br>\n",
    "https://towardsdatascience.com/metrics-and-python-ii-2e49597964ff"
   ]
  },
  {
   "cell_type": "code",
   "execution_count": null,
   "id": "premium-sugar",
   "metadata": {},
   "outputs": [],
   "source": []
  }
 ],
 "metadata": {
  "kernelspec": {
   "display_name": "Python 3",
   "language": "python",
   "name": "python3"
  },
  "language_info": {
   "codemirror_mode": {
    "name": "ipython",
    "version": 3
   },
   "file_extension": ".py",
   "mimetype": "text/x-python",
   "name": "python",
   "nbconvert_exporter": "python",
   "pygments_lexer": "ipython3",
   "version": "3.8.8"
  }
 },
 "nbformat": 4,
 "nbformat_minor": 5
}
