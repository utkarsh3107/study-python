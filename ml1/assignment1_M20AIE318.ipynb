{
 "cells": [
  {
   "cell_type": "markdown",
   "id": "significant-sucking",
   "metadata": {},
   "source": [
    "# Assignment 1\n",
    "\n",
    "## Machine Learning 1 - Evaluation Metrics\n",
    "\n",
    "**Utkarsh Thusoo**  \n",
    "**M20AIE318**"
   ]
  },
  {
   "cell_type": "markdown",
   "id": "cloudy-anxiety",
   "metadata": {},
   "source": [
    "**Q1. Explain any three new evaluation metrics (other than discussed in class) with\n",
    "proper explanation and analysis.**"
   ]
  },
  {
   "cell_type": "markdown",
   "id": "verified-berry",
   "metadata": {},
   "source": [
    "**Answer:**\n",
    "\n",
    "Most of the Evaluation matrix used in Classification model covered in class are:\n",
    "\n",
    "1. Accuracy\n",
    "2. Precision\n",
    "3. Recall\n",
    "4. F1 score\n",
    "5. AUC-ROC curve\n",
    "6. CMC\n",
    "\n",
    "Below are list of additional matrices which can be used:\n",
    "\n",
    "1. **F Beta Score**\n",
    "    \n",
    "    Its a measure which helps us balance precision and recall. \n",
    "\n",
    "    $$\n",
    "      Precision = \\frac{TruePositives}{TruePositives + FalsePositives}\\\n",
    "    $$\n",
    "    \n",
    "    $$\n",
    "      Recall = \\frac{TruePositives}{TruePositives + FalseNegatives}\\\n",
    "    $$\n",
    "    \n",
    "    As we know our goal is always to reduce the `FalsePositives` and `FalseNegatives`. F-Beta provides a balance between `FalsePositives` and `FalseNegatives`.\n",
    "\n",
    "    $$\n",
    "      F_{beta} = \\frac{(1 + beta^2) * Precision * Recall}{beta^2 * Precision + Recall}\\\n",
    "    $$\n",
    "\n",
    "    From formule we can clearly identify that beta is taken into account with Precision which deals with FalsePositive. Hence when we want to put more weight on FalsePositive(i.e Precision) than on FalseNegative we can use a smaller beta value (beta < 1 and when we want more weight to be given to FalseNegative (i.e Recall), we can use a greater value (beta > 1). If we want a balanced value between precision and call we can use beta value as 1.\n",
    "    \n",
    "    #### Rules and Examples:\n",
    "    \n",
    "    ##### A. **$F_{0.5}-Measure (beta=0.5)$:**\n",
    "    \n",
    "    $F_{0.5}$-measure puts more attention on minimizing false positives than minimizing false negatives. \n",
    "    \n",
    "    ex. _In case of spam check, we want very low false positives because if regular mail is reported as spam, user might lose important information hence we can more focus on precision._    \n",
    "    \n",
    "   ##### B. $F_{2.0}-Measure (beta=2.0)$:\n",
    "    \n",
    "    $F_{2.0}$-measure puts less weight on precision, more weight on recall.\n",
    "    \n",
    "    ex. _In case of airport we don't want any dangerous items to be boarded into a flight. Hence we want to reduce falseNegatives putting more value on Recall._\n",
    "    \n",
    "   #### Compariosion of F 0.5, F1 & F2:\n",
    "    \n",
    "    Suppose for below scenarios where we have perfect precision and 50% recall.  \n",
    "    **Precision = 1.0**  \n",
    "    **Recall = 0.5**  \n",
    "      \n",
    "   ##### A. If Beta = 1\n",
    "    - F1-Measure = ((1 + 1^2) * Precision * Recall) / (1^2 * Precision + Recall)\n",
    "    - F1-Measure = (2 * 1.0 * 0.5) / ( 1.0 + 0.5 )\n",
    "    - F1-Measure = 1.0 / 1.5\n",
    "    - F1-Measure = 0.666  \n",
    "    \n",
    "   ##### B. If Beta = 0.5\n",
    "    - F0.5-Measure = ((1 + 0.5^2) * Precision * Recall) / (0.5^2 * Precision + Recall)\n",
    "    - F0.5-Measure = (1.25 * Precision * Recall) / (0.25 * Precision + Recall)\n",
    "    - F0.5-Measure = (1.25 * 1.0 * 0.5) / (0.25 * 1.0 + 0.5)\n",
    "    - F0.5-Measure = 0.625 /0.75\n",
    "    - F0.5-Measure = 0.833\n",
    "    \n",
    "    _As in Beta < 1 we want to provide more weightage to the Precision, we can clearly see a higher precision score of 0.83 which is much more than the normal F1 score. We are not getting penalized for the low recall._\n",
    "    \n",
    "   ##### C. If Beta = 2.0\n",
    "    - F2-Measure = ((1 + 2^2) * Precision * Recall) / (2^2 * Precision + Recall)\n",
    "    - F2-Measure = (5 * Precision * Recall) / (4 * Precision + Recall)\n",
    "    - F2-Measure = (5 * 1.0 * 0.5) / (4 * 1.0 + 0.5)\n",
    "    - F2-Measure = 2.5 /4.5\n",
    "    - F2-Measure = 0.555\n",
    "    \n",
    "    _As in Beta > 1 we want to provide more weightage to the Recall, we can clearly see a lower score of 0.555 which is much less than the normal F1 score. We are getting penalized for the low recall value._"
   ]
  },
  {
   "cell_type": "markdown",
   "id": "expensive-hanging",
   "metadata": {},
   "source": [
    " 2. **Cohen Kappa**\n",
    " \n",
    "    When we compute accuracy we don't take into account the random chance which lead to the model predict correct values. As this random hits can be further taken into account to compute accuracy we can use kappa score to handle these scenarios. Cohen Kappa is particularly useful when the target class is unbalanced which leads to overall accuracy being biased.\n",
    "\n",
    "    Inititally introduced to measure aggrement between observers of psychological behavior it's actually intended to measure the degree of agreement, or disagreement, between two people which are observing a same experiment. Cohens kappa has universal range from -1 to +1. Postive one indicates strong aggrement or a perfect model, negative corresponds to a strong disagreement while zero indicates chance-level aggrement.\n",
    "    \n",
    "    #### Cohen's Kappa for binary distriution\n",
    "    \n",
    "    Let us try to explain this with an example. Customer with good rating represent 90% of the data and customer with bad rating represent 10% of the data. A classification model that predicts a rating of all customers as good would reach an accuracy of as high as 90%. Cohen's Kappa tries to correct this bias by taking into account the priori distribution.\n",
    "    \n",
    "    $$\n",
    "        \\kappa = \\frac{P_o - P_e}{1 - P_e}\n",
    "    $$\n",
    "    \n",
    "    - $P_o$: Overall accuracy of the model i.e. is the proportion of observed agreement  \n",
    "    - $P_e$: Overall accuracy that can be reached with a random guess i.e. the Expected Accuracy, the level of Accuracy we expect to obtain by chance.  \n",
    "    - $1 - P_e$: is the maximum value of this difference as give by a perfect model with accuracy of 100%\n",
    "    \n",
    "    To calucate overall accuracy for a random guess $P_e$, we make a strong assumption that the model predictions are not affected by the priori distribution of the target class. This assumption is often violated when working with unbalanced data since the classification model tends to predict the majority class in case of uncertinity.\n",
    "\n",
    "    However be caeful when you compare cohen kappa values between models, because cohen's kappa tends to be higher when the target classes are balanced. Cohen's Kappa is not informative about expected prediction accuracy. The interpretation of cohen's Kappa alues in terms like \"moderate\" is neither easy not fixed.\n",
    "    \n",
    "    #### Cohen's Kappa for multiclass distriution\n",
    "\n",
    "    || <div style=\"width:150px\">C1</div> | <div style=\"width:150px\">C2</div> | <div style=\"width:150px\">C3</div> | <div style=\"width:150px\">Total</div> |\n",
    "    | :- | :- | :- | :- | :- |\n",
    "    |**C1**| a | b | c | $a+b+c=C1_{corr}$ |\n",
    "    |**C2**| d | e | f | $d+e+f=C2_{corr}$ |\n",
    "    |**C3**| g | h | i | $g+h+i=C3_{corr}$ |\n",
    "    |**Total**|$a+d+g=C1_{pred}$|$b+e+h=C3_{pred}$ |$c+f+i=C3_{pred}$ |$N$|\n",
    "\n",
    "    Being N the total number of patterns, C1, C2 and C3 the label related with class 1,2 or 3, respectively. Their Cohen’s kappa is given by:  \n",
    "    \n",
    "    $$\n",
    "      Cohne's Kappa = \\frac{N * (a + e + i) - (C1_{corr} * C1_{pred} + C2_{corr} * C2_{pred} + C2_{corr} * C2_{pred})}{N^2 - (C1_{corr} * C1_{pred} + C2_{corr} * C2_{pred} + C2_{corr} * C2_{pred})}\\\n",
    "    $$\n",
    "    \n",
    "    It can be generalized to the _m_ classes where $CM_{ii}$ represent the diagonal elements of the confusion matrix.\n",
    "    \n",
    "    $$\n",
    "       Cohne's Kappa = \\frac{N\\sum_{i=1}^{m} CM_{ii} \\sum_{i=1}^{m} Ci_{corr}Ci_{pred}}{N^2 - \\sum_{i=1}^{m} Ci_{corr}Ci_{pred}}\n",
    "    $$"
   ]
  },
  {
   "cell_type": "markdown",
   "id": "durable-ballot",
   "metadata": {},
   "source": [
    " 3. **Mattheus Correlation Coefficient (MCC)**\n",
    "     \n",
    "     MCC is a tool for model evaluation. It measures the differences between actual values and predicted values and is equivalent to the chi-square statistic for a 2 x 2 contingency table.\n",
    "     \n",
    "     MCC is generally regarded as a balanced measure which can be used in binary classification even if the classes are very different in size. The coefficient takes into account true negatives, true positives, false negatives and false positives. This reliable measure produces high scores only if the prediction returns good rates for all four of these categories.\n",
    "     \n",
    "     Like most correlation coefficients, MCC ranges between -1 and 1:\n",
    "    - 1 is the best agreement between actuals and predictions,\n",
    "    - zero is no agreement at all. In other words, the prediction is random with respect to actuals.\n",
    "    \n",
    "    #### MCC for binary distriution\n",
    "    \n",
    "    As MCC takes into account full confusion matrix below is the formulae for the same.\n",
    "    \n",
    "    $$\n",
    "      MCC = \\frac{TP * TN - FP * FN}{\\sqrt{(TP + FP)(TP + FP)(TN + FN)(TN + FP)}}\n",
    "    $$\n",
    "    \n",
    "    ##### Example:\n",
    "    \n",
    "    Imagine we have a classifier that is trying to differenciate between cats and dogs by identifying them based on their images. Below is the confusion matrix:\n",
    "    \n",
    "    || Cat | Dog |  |\n",
    "    | --- | --- | --- | --- |\n",
    "    |**Cat**| 109 | 1 | 110 |\n",
    "    |**Dog**| 9 | 1 | 10 |\n",
    "    || 118 | 2 | 120 |\n",
    "    \n",
    "    We can see we have predicted only 1 out of 10 dog correctly while 109 cats were correctly identified.\n",
    "    \n",
    "    ##### Scenario 1: \n",
    "    - cats are positive  \n",
    "    - dogs are negative\n",
    "    \n",
    "    | Evaluation Matrix | Value | \n",
    "    | :- | -: |\n",
    "    | **Accuracy** | (109 + 1)/ 120 = 0.92 |\n",
    "    | **Precision** | 109/ (109+9) = 0.92 |\n",
    "    | **Recall** | 109/ (109+1) = 0.99  |\n",
    "    | **F1 Score** | 0.95  |\n",
    "    \n",
    "    ##### Scenario 2: \n",
    "    - cats are negative  \n",
    "    - dogs are positive\n",
    " \n",
    "     | Evaluation Matrix | Value | \n",
    "    | :- | -: |\n",
    "    | **Accuracy** | (109 + 1)/ 120 = 0.92 |\n",
    "    | **Precision** | 1/ (1+1) = 0.50 |\n",
    "    | **Recall** | 1/ (9+1) = 0.10  |\n",
    "    | **F1 Score** | 0.16  |\n",
    "\n",
    "    F1 score does not take into account TN at all which is the reason of this drop in percentage.\n",
    "    \n",
    "    Using MCC formule we get a value **MCC = 0.21**. MCC has a low value which suggests that even with a high positive class results it still gave us poor score because our negative class was not well predicted (1 out of 10 was predicted correctly).\n",
    "   \n",
    "    #### MCC for Multi-class Classification\n",
    "    \n",
    "    the True and the Predicted class distributions are no longer binary and a higher number of classes has been taken into account. In this case numerator and denominator take a different shape compared to the binary case and this can partially help to find more stable results inside the range [-1;+1] of MCC.\n",
    "    \n",
    "    $$\n",
    "      MCC = \\frac{c * s \\sum_{k}^{K} p_{k} * t_{k}}{\\sqrt{(s^2 - \\sum_{k}^{K} p_{k}^2)(s^2 - \\sum_{k}^{K} t_{k}^2)}}\n",
    "    $$\n",
    "    \n",
    "    To simplify the definition, it is necessary to consider the following intermediate variables\n",
    "    \n",
    "    - $ c = \\sum_{k}^{K} C_{kk}$ the total number of elements correctly predicted\n",
    "    - $ s = \\sum_{i}^{K} \\sum_{j}^{K} C_{ij}$ the total number of elements\n",
    "    - $ p_{k} = \\sum_{i}^{K} C_{ki}$ the number of times that class k was predicted (column total)\n",
    "    - $ t_{k} = \\sum_{i}^{K} C_{ik}$ the number of times that class k truly occurred (row total)"
   ]
  },
  {
   "cell_type": "markdown",
   "id": "pregnant-insulation",
   "metadata": {},
   "source": [
    "**Question 2: Evaluate the performance of the predictions using different evaluation metrics:Do not use any predefined library for calculating a. to e. All the evaluation should be done from scratch.**\n",
    "\n",
    "**1. Calculate overall accuracy and class-wise accuracy.**  \n",
    "**2. Calculate confusion metrics.**  \n",
    "**3. Calculate precision and recall for all classes and report macro average and weighted average values.**  \n",
    "**4. calculate F1 score for all classes.**  \n",
    "**5. Report Type-1 and Type-II error for given data.**  \n",
    "**6. Draw a comparison table between above determined values and values observed from sklearn library (predefined library for performance evaluation).**  \n",
    "**7. Use any 2 metrics from Question 1 for implementation and report your results for this dataset.**  \n"
   ]
  },
  {
   "cell_type": "markdown",
   "id": "certain-toddler",
   "metadata": {},
   "source": [
    "## Manual Computation"
   ]
  },
  {
   "cell_type": "code",
   "execution_count": 1,
   "id": "genuine-guitar",
   "metadata": {
    "scrolled": false
   },
   "outputs": [
    {
     "name": "stdout",
     "output_type": "stream",
     "text": [
      "     Predicted Class  Actual Class\n",
      "0                  0             0\n",
      "1                  0             0\n",
      "2                  1             0\n",
      "3                  0             0\n",
      "4                  0             0\n",
      "..               ...           ...\n",
      "155                3             3\n",
      "156                3             3\n",
      "157                3             3\n",
      "158                2             3\n",
      "159                0             3\n",
      "\n",
      "[160 rows x 2 columns]\n"
     ]
    }
   ],
   "source": [
    "import pandas as pd\n",
    "import numpy as np\n",
    "\n",
    "df = pd.read_excel(\"dataset.xlsx\")\n",
    "print(df)"
   ]
  },
  {
   "cell_type": "code",
   "execution_count": 2,
   "id": "federal-production",
   "metadata": {
    "scrolled": false
   },
   "outputs": [
    {
     "name": "stdout",
     "output_type": "stream",
     "text": [
      "Total Distinct classes: 4\n"
     ]
    }
   ],
   "source": [
    "total_class = df[\"Predicted Class\"].unique().size\n",
    "print(\"Total Distinct classes:\", total_class)\n",
    "\n",
    "\n",
    "def printValues(header, values):\n",
    "    \n",
    "    if isinstance(values, np.ndarray):\n",
    "        print('\\033[1m%s: \\033[0m' % (header))\n",
    "        \n",
    "        for each in range(0, total_class):\n",
    "            if isinstance(values[each], np.float64):\n",
    "                print(\"Class %d: %f\" % (each, values[each]))\n",
    "            elif isinstance(values[each], np.int64):  \n",
    "                print(\"Class %d: %d\" % (each, values[each]))\n",
    "    else:\n",
    "        print('\\033[1m%s: \\033[0m %s' % (header, values))"
   ]
  },
  {
   "cell_type": "code",
   "execution_count": 3,
   "id": "prescription-butterfly",
   "metadata": {
    "scrolled": false
   },
   "outputs": [
    {
     "name": "stdout",
     "output_type": "stream",
     "text": [
      "\u001b[1mConfusion Matrix:\u001b[0m\n",
      "[[33  8  4  4]\n",
      " [ 1 32  3  0]\n",
      " [ 3  2 29  6]\n",
      " [ 2  3  3 27]]\n"
     ]
    }
   ],
   "source": [
    "manual_cf_matrix = np.zeros([total_class, total_class], dtype = int) \n",
    "\n",
    "for i in range(len(df)) : \n",
    "    np.add.at(manual_cf_matrix[df.iloc[i, 1]], df.iloc[i, 0], 1)\n",
    "\n",
    "print('\\033[1m' + 'Confusion Matrix:' + '\\033[0m')\n",
    "print(manual_cf_matrix)"
   ]
  },
  {
   "cell_type": "code",
   "execution_count": 4,
   "id": "blocked-blink",
   "metadata": {
    "scrolled": false
   },
   "outputs": [
    {
     "name": "stdout",
     "output_type": "stream",
     "text": [
      "\u001b[1mActual Class: \u001b[0m\n",
      "Class 0: 49\n",
      "Class 1: 36\n",
      "Class 2: 40\n",
      "Class 3: 35\n",
      "\u001b[1mPredicted Class: \u001b[0m\n",
      "Class 0: 39\n",
      "Class 1: 45\n",
      "Class 2: 39\n",
      "Class 3: 37\n"
     ]
    }
   ],
   "source": [
    "actual_cases = np.sum(manual_cf_matrix, axis = 1)\n",
    "printValues(\"Actual Class\", actual_cases)\n",
    "\n",
    "predicted_cases = np.sum(manual_cf_matrix, axis = 0)\n",
    "printValues(\"Predicted Class\", predicted_cases)"
   ]
  },
  {
   "cell_type": "code",
   "execution_count": 5,
   "id": "hearing-movement",
   "metadata": {
    "scrolled": false
   },
   "outputs": [
    {
     "name": "stdout",
     "output_type": "stream",
     "text": [
      "\u001b[1mTrue Positive Cases: \u001b[0m\n",
      "Class 0: 33\n",
      "Class 1: 32\n",
      "Class 2: 29\n",
      "Class 3: 27\n",
      "\u001b[1mFalse Negative Cases: \u001b[0m\n",
      "Class 0: 16\n",
      "Class 1: 4\n",
      "Class 2: 11\n",
      "Class 3: 8\n"
     ]
    }
   ],
   "source": [
    "fn_cases = np.zeros([total_class], dtype = int) \n",
    "tp_cases = np.zeros([total_class], dtype = int) \n",
    "\n",
    "for row in range(0, total_class):\n",
    "    sum = 0\n",
    "    for column in range(0, total_class):\n",
    "        if(row == column):\n",
    "            tp_cases[row] = manual_cf_matrix[row][column] \n",
    "            continue\n",
    "        sum = sum + manual_cf_matrix[row][column]    \n",
    "    fn_cases[row] = sum        \n",
    "\n",
    "printValues(\"True Positive Cases\", tp_cases)\n",
    "printValues(\"False Negative Cases\", fn_cases)"
   ]
  },
  {
   "cell_type": "code",
   "execution_count": 6,
   "id": "compatible-coach",
   "metadata": {
    "scrolled": false
   },
   "outputs": [
    {
     "name": "stdout",
     "output_type": "stream",
     "text": [
      "\u001b[1mFalse Positive Cases: \u001b[0m\n",
      "Class 0: 16\n",
      "Class 1: 4\n",
      "Class 2: 11\n",
      "Class 3: 8\n",
      "\u001b[1mTrue Negative Cases: \u001b[0m\n",
      "Class 0: 16\n",
      "Class 1: 4\n",
      "Class 2: 11\n",
      "Class 3: 8\n"
     ]
    }
   ],
   "source": [
    "fp_cases = predicted_cases - tp_cases\n",
    "printValues(\"False Positive Cases\", fn_cases)\n",
    "\n",
    "tn_cases = actual_cases.sum() - (actual_cases + fn_cases)\n",
    "printValues(\"True Negative Cases\", fn_cases)"
   ]
  },
  {
   "cell_type": "code",
   "execution_count": 7,
   "id": "intellectual-killing",
   "metadata": {
    "scrolled": false
   },
   "outputs": [
    {
     "name": "stdout",
     "output_type": "stream",
     "text": [
      "\u001b[1mTrue Positive Rate: \u001b[0m\n",
      "Class 0: 0.673469\n",
      "Class 1: 0.888889\n",
      "Class 2: 0.725000\n",
      "Class 3: 0.771429\n",
      "\u001b[1mTrue Negative Rate: \u001b[0m\n",
      "Class 0: 0.940594\n",
      "Class 1: 0.902256\n",
      "Class 2: 0.915966\n",
      "Class 3: 0.921260\n"
     ]
    }
   ],
   "source": [
    "tnr = tn_cases / (fp_cases + tn_cases)\n",
    "tpr = tp_cases / (fn_cases + tp_cases)\n",
    "\n",
    "printValues(\"True Positive Rate\", tpr)\n",
    "printValues(\"True Negative Rate\", tnr)"
   ]
  },
  {
   "cell_type": "code",
   "execution_count": 8,
   "id": "occupied-official",
   "metadata": {
    "scrolled": false
   },
   "outputs": [
    {
     "name": "stdout",
     "output_type": "stream",
     "text": [
      "\u001b[1mAccuracy: \u001b[0m\n",
      "Class 0: 0.807032\n",
      "Class 1: 0.895572\n",
      "Class 2: 0.820483\n",
      "Class 3: 0.846344\n"
     ]
    }
   ],
   "source": [
    "class_accuracy = ( tpr + tnr ) / 2 \n",
    "printValues(\"Accuracy\", class_accuracy)"
   ]
  },
  {
   "cell_type": "code",
   "execution_count": 9,
   "id": "involved-reason",
   "metadata": {
    "scrolled": false
   },
   "outputs": [
    {
     "name": "stdout",
     "output_type": "stream",
     "text": [
      "\u001b[1mAccuracy: \u001b[0m 0.75625\n"
     ]
    }
   ],
   "source": [
    "overall_accuracy = tp_cases.sum() / actual_cases.sum()\n",
    "printValues(\"Accuracy\", overall_accuracy)"
   ]
  },
  {
   "cell_type": "code",
   "execution_count": 10,
   "id": "dying-contribution",
   "metadata": {
    "scrolled": false
   },
   "outputs": [
    {
     "name": "stdout",
     "output_type": "stream",
     "text": [
      "\u001b[1mPrecision: \u001b[0m\n",
      "Class 0: 0.846154\n",
      "Class 1: 0.711111\n",
      "Class 2: 0.743590\n",
      "Class 3: 0.729730\n"
     ]
    }
   ],
   "source": [
    "precision = tp_cases / ( tp_cases + fp_cases )\n",
    "printValues(\"Precision\", precision)"
   ]
  },
  {
   "cell_type": "code",
   "execution_count": 11,
   "id": "developing-document",
   "metadata": {
    "scrolled": false
   },
   "outputs": [
    {
     "name": "stdout",
     "output_type": "stream",
     "text": [
      "\u001b[1mMacro Precision: \u001b[0m 0.7576461076461076\n"
     ]
    }
   ],
   "source": [
    "macro_precision = precision.sum() / precision.size\n",
    "printValues(\"Macro Precision\", macro_precision)"
   ]
  },
  {
   "cell_type": "code",
   "execution_count": 12,
   "id": "hairy-feeling",
   "metadata": {
    "scrolled": false
   },
   "outputs": [
    {
     "name": "stdout",
     "output_type": "stream",
     "text": [
      "\u001b[1mMicro Precision: \u001b[0m 0.75625\n"
     ]
    }
   ],
   "source": [
    "micro_precision = tp_cases.sum() / (tp_cases.sum() + fp_cases.sum())\n",
    "printValues(\"Micro Precision\", micro_precision)"
   ]
  },
  {
   "cell_type": "code",
   "execution_count": 13,
   "id": "legislative-croatia",
   "metadata": {
    "scrolled": false
   },
   "outputs": [
    {
     "name": "stdout",
     "output_type": "stream",
     "text": [
      "\u001b[1mWeighted Avergae Precision: \u001b[0m 0.7646604296604297\n"
     ]
    }
   ],
   "source": [
    "weighted_average_precision = ((actual_cases / actual_cases.sum()) * precision).sum()\n",
    "printValues(\"Weighted Avergae Precision\", weighted_average_precision)"
   ]
  },
  {
   "cell_type": "code",
   "execution_count": 14,
   "id": "established-irish",
   "metadata": {
    "scrolled": false
   },
   "outputs": [
    {
     "name": "stdout",
     "output_type": "stream",
     "text": [
      "\u001b[1mRecall: \u001b[0m\n",
      "Class 0: 0.673469\n",
      "Class 1: 0.888889\n",
      "Class 2: 0.725000\n",
      "Class 3: 0.771429\n"
     ]
    }
   ],
   "source": [
    "recall = tp_cases / ( tp_cases + fn_cases )\n",
    "printValues(\"Recall\", recall)"
   ]
  },
  {
   "cell_type": "code",
   "execution_count": 15,
   "id": "comic-material",
   "metadata": {
    "scrolled": false
   },
   "outputs": [
    {
     "name": "stdout",
     "output_type": "stream",
     "text": [
      "\u001b[1mMacro Recall: \u001b[0m 0.7646967120181406\n"
     ]
    }
   ],
   "source": [
    "macro_recall = recall.sum() / recall.size\n",
    "printValues(\"Macro Recall\", macro_recall)"
   ]
  },
  {
   "cell_type": "code",
   "execution_count": 16,
   "id": "narrative-fence",
   "metadata": {
    "scrolled": false
   },
   "outputs": [
    {
     "name": "stdout",
     "output_type": "stream",
     "text": [
      "\u001b[1mWeighted Avergae Recall: \u001b[0m 0.7562500000000001\n"
     ]
    }
   ],
   "source": [
    "weighted_average_recall = ((actual_cases / actual_cases.sum()) * recall).sum()\n",
    "printValues(\"Weighted Avergae Recall\", weighted_average_recall)"
   ]
  },
  {
   "cell_type": "code",
   "execution_count": 17,
   "id": "orange-quantity",
   "metadata": {
    "scrolled": false
   },
   "outputs": [
    {
     "name": "stdout",
     "output_type": "stream",
     "text": [
      "\u001b[1mF0.5 Measure: \u001b[0m\n",
      "Class 0: 0.804878\n",
      "Class 1: 0.740741\n",
      "Class 2: 0.739796\n",
      "Class 3: 0.737705\n"
     ]
    }
   ],
   "source": [
    "f05 = ((1 + 0.5 ** 2) * precision * recall) / ((0.5 ** 2 * precision) + recall)\n",
    "printValues(\"F0.5 Measure\", f05)"
   ]
  },
  {
   "cell_type": "code",
   "execution_count": 18,
   "id": "disabled-lindsay",
   "metadata": {
    "scrolled": false
   },
   "outputs": [
    {
     "name": "stdout",
     "output_type": "stream",
     "text": [
      "\u001b[1mF1 Measure: \u001b[0m\n",
      "Class 0: 0.750000\n",
      "Class 1: 0.790123\n",
      "Class 2: 0.734177\n",
      "Class 3: 0.750000\n"
     ]
    }
   ],
   "source": [
    "f1 = 2 / (1 / precision + 1 / recall)\n",
    "printValues(\"F1 Measure\", f1)"
   ]
  },
  {
   "cell_type": "code",
   "execution_count": 19,
   "id": "passing-restoration",
   "metadata": {
    "scrolled": false
   },
   "outputs": [
    {
     "name": "stdout",
     "output_type": "stream",
     "text": [
      "\u001b[1mF2.0 Measure: \u001b[0m\n",
      "Class 0: 0.702128\n",
      "Class 1: 0.846561\n",
      "Class 2: 0.728643\n",
      "Class 3: 0.762712\n"
     ]
    }
   ],
   "source": [
    "f2 = ((1 + 2 ** 2) * precision * recall) / ((2 ** 2 * precision) + recall)\n",
    "printValues(\"F2.0 Measure\", f2)"
   ]
  },
  {
   "cell_type": "code",
   "execution_count": 20,
   "id": "patent-craps",
   "metadata": {
    "scrolled": false
   },
   "outputs": [
    {
     "name": "stdout",
     "output_type": "stream",
     "text": [
      "\u001b[1mWeighted Avergae F1: \u001b[0m 0.7550720815752461\n"
     ]
    }
   ],
   "source": [
    "weighted_average_f1 = ((actual_cases / actual_cases.sum()) * f1).sum()\n",
    "printValues(\"Weighted Avergae F1\", weighted_average_f1)"
   ]
  },
  {
   "cell_type": "code",
   "execution_count": 21,
   "id": "chief-dover",
   "metadata": {
    "scrolled": false
   },
   "outputs": [
    {
     "name": "stdout",
     "output_type": "stream",
     "text": [
      "\u001b[1mMacro Avergae F1: \u001b[0m 0.7560751679949992\n"
     ]
    }
   ],
   "source": [
    "macro_average_f1 = f1.sum() / f1.size\n",
    "printValues(\"Macro Avergae F1\", macro_average_f1)"
   ]
  },
  {
   "cell_type": "code",
   "execution_count": 22,
   "id": "basic-potential",
   "metadata": {
    "scrolled": false
   },
   "outputs": [
    {
     "name": "stdout",
     "output_type": "stream",
     "text": [
      "\u001b[1mType 1 Error: \u001b[0m\n",
      "Class 0: 0.059406\n",
      "Class 1: 0.097744\n",
      "Class 2: 0.084034\n",
      "Class 3: 0.078740\n",
      "\u001b[1mType 2 Error: \u001b[0m\n",
      "Class 0: 0.326531\n",
      "Class 1: 0.111111\n",
      "Class 2: 0.275000\n",
      "Class 3: 0.228571\n"
     ]
    }
   ],
   "source": [
    "fpr = fp_cases / ( tn_cases + fp_cases )\n",
    "fnr = fn_cases / ( fn_cases + tp_cases )\n",
    "\n",
    "printValues(\"Type 1 Error\", fpr)\n",
    "printValues(\"Type 2 Error\", fnr)"
   ]
  },
  {
   "cell_type": "code",
   "execution_count": 23,
   "id": "empty-ukraine",
   "metadata": {
    "scrolled": false
   },
   "outputs": [
    {
     "name": "stdout",
     "output_type": "stream",
     "text": [
      "\u001b[1mKappa Value: \u001b[0m 0.6752368064952639\n"
     ]
    }
   ],
   "source": [
    "class_sum = (actual_cases * predicted_cases).sum()\n",
    "\n",
    "kappa_value = ((actual_cases.sum() * tp_cases.sum()) - class_sum) / ((actual_cases.sum() ** 2) - class_sum) \n",
    "printValues(\"Kappa Value\", kappa_value)"
   ]
  },
  {
   "cell_type": "markdown",
   "id": "listed-equation",
   "metadata": {},
   "source": [
    "## Sckikit Values"
   ]
  },
  {
   "cell_type": "code",
   "execution_count": 24,
   "id": "figured-festival",
   "metadata": {
    "scrolled": false
   },
   "outputs": [],
   "source": [
    "from sklearn.metrics import confusion_matrix\n",
    "from sklearn.metrics import accuracy_score\n",
    "from sklearn.metrics import classification_report\n",
    "from sklearn.metrics import cohen_kappa_score\n",
    "from sklearn.metrics import roc_curve\n",
    "from sklearn.metrics import matthews_corrcoef\n",
    "from sklearn.metrics import precision_score\n",
    "from sklearn.metrics import recall_score\n",
    "from sklearn.metrics import f1_score\n",
    "\n",
    "sklearn_cf_matrix = confusion_matrix(df['Actual Class'], df['Predicted Class'])\n",
    "sklearn_kappa_vaue = cohen_kappa_score(df['Actual Class'], df['Predicted Class'])\n",
    "sklearn_accuracy = accuracy_score(df['Actual Class'], df['Predicted Class'])\n",
    "sklearn_macro_precision = precision_score(df['Actual Class'], df['Predicted Class'], average='macro')\n",
    "sklearn_weighted_precision = precision_score(df['Actual Class'], df['Predicted Class'], average='weighted')\n",
    "sklearn_macro_recall = recall_score(df['Actual Class'], df['Predicted Class'], average='macro')\n",
    "sklearn_weighted_recall = recall_score(df['Actual Class'], df['Predicted Class'], average='weighted')\n",
    "sklearn_macro_f1 = f1_score(df['Actual Class'], df['Predicted Class'], average='macro')\n",
    "sklearn_weighted_f1 = f1_score(df['Actual Class'], df['Predicted Class'], average='weighted')\n",
    "sklearn_report = classification_report(df['Actual Class'], df['Predicted Class'], target_names=['Class 0' , 'Class 1', 'Class 2', 'Class 3'])"
   ]
  },
  {
   "cell_type": "markdown",
   "id": "alternate-jackson",
   "metadata": {},
   "source": [
    "## Consolidated Values:\n",
    "\n",
    "#### For manual computation matrices to be chosen from question 1, I have used FBeta (F0.5 & F2) and Cohen Kappa for analysis."
   ]
  },
  {
   "cell_type": "code",
   "execution_count": 25,
   "id": "advanced-heating",
   "metadata": {
    "scrolled": false
   },
   "outputs": [
    {
     "name": "stdout",
     "output_type": "stream",
     "text": [
      "\u001b[1mManual Confusion Matrix:\u001b[0m\n",
      "[[33  8  4  4]\n",
      " [ 1 32  3  0]\n",
      " [ 3  2 29  6]\n",
      " [ 2  3  3 27]]\n",
      "\u001b[1mSklearn Confusion Matrix:\u001b[0m\n",
      "[[33  8  4  4]\n",
      " [ 1 32  3  0]\n",
      " [ 3  2 29  6]\n",
      " [ 2  3  3 27]]\n"
     ]
    }
   ],
   "source": [
    "print('\\033[1m' + 'Manual Confusion Matrix:' + '\\033[0m')\n",
    "print(manual_cf_matrix)\n",
    "\n",
    "print('\\033[1m' + 'Sklearn Confusion Matrix:' + '\\033[0m')\n",
    "print(sklearn_cf_matrix)"
   ]
  },
  {
   "cell_type": "code",
   "execution_count": 26,
   "id": "manual-pharmacy",
   "metadata": {
    "scrolled": false
   },
   "outputs": [
    {
     "data": {
      "text/html": [
       "<style  type=\"text/css\" >\n",
       "#T_4f36c_row0_col0,#T_4f36c_row0_col1,#T_4f36c_row0_col2,#T_4f36c_row1_col0,#T_4f36c_row1_col1,#T_4f36c_row1_col2,#T_4f36c_row2_col0,#T_4f36c_row2_col1,#T_4f36c_row2_col2,#T_4f36c_row3_col0,#T_4f36c_row3_col1,#T_4f36c_row3_col2,#T_4f36c_row4_col0,#T_4f36c_row4_col1,#T_4f36c_row4_col2,#T_4f36c_row5_col0,#T_4f36c_row5_col1,#T_4f36c_row5_col2,#T_4f36c_row6_col0,#T_4f36c_row6_col1,#T_4f36c_row6_col2,#T_4f36c_row7_col0,#T_4f36c_row7_col1,#T_4f36c_row7_col2,#T_4f36c_row8_col0,#T_4f36c_row8_col1,#T_4f36c_row8_col2{\n",
       "            text-align:  left;\n",
       "        }</style><table id=\"T_4f36c_\" ><thead>    <tr>        <th class=\"col_heading level0 col0\" >Evaluation Matrix</th>        <th class=\"col_heading level0 col1\" >Manual Values</th>        <th class=\"col_heading level0 col2\" >Skilearn Values</th>    </tr></thead><tbody>\n",
       "                <tr>\n",
       "                                <td id=\"T_4f36c_row0_col0\" class=\"data row0 col0\" >Accuracy</td>\n",
       "                        <td id=\"T_4f36c_row0_col1\" class=\"data row0 col1\" >0.756250</td>\n",
       "                        <td id=\"T_4f36c_row0_col2\" class=\"data row0 col2\" >0.756250</td>\n",
       "            </tr>\n",
       "            <tr>\n",
       "                                <td id=\"T_4f36c_row1_col0\" class=\"data row1 col0\" >Macro Precision</td>\n",
       "                        <td id=\"T_4f36c_row1_col1\" class=\"data row1 col1\" >0.757646</td>\n",
       "                        <td id=\"T_4f36c_row1_col2\" class=\"data row1 col2\" >0.757646</td>\n",
       "            </tr>\n",
       "            <tr>\n",
       "                                <td id=\"T_4f36c_row2_col0\" class=\"data row2 col0\" >Cohen Kappa</td>\n",
       "                        <td id=\"T_4f36c_row2_col1\" class=\"data row2 col1\" >0.675237</td>\n",
       "                        <td id=\"T_4f36c_row2_col2\" class=\"data row2 col2\" >0.675237</td>\n",
       "            </tr>\n",
       "            <tr>\n",
       "                                <td id=\"T_4f36c_row3_col0\" class=\"data row3 col0\" >Weighted Avergae Precision</td>\n",
       "                        <td id=\"T_4f36c_row3_col1\" class=\"data row3 col1\" >0.764660</td>\n",
       "                        <td id=\"T_4f36c_row3_col2\" class=\"data row3 col2\" >0.764660</td>\n",
       "            </tr>\n",
       "            <tr>\n",
       "                                <td id=\"T_4f36c_row4_col0\" class=\"data row4 col0\" >Macro Avergae Precision</td>\n",
       "                        <td id=\"T_4f36c_row4_col1\" class=\"data row4 col1\" >0.757646</td>\n",
       "                        <td id=\"T_4f36c_row4_col2\" class=\"data row4 col2\" >0.757646</td>\n",
       "            </tr>\n",
       "            <tr>\n",
       "                                <td id=\"T_4f36c_row5_col0\" class=\"data row5 col0\" >Weighted Avergae Recall</td>\n",
       "                        <td id=\"T_4f36c_row5_col1\" class=\"data row5 col1\" >0.756250</td>\n",
       "                        <td id=\"T_4f36c_row5_col2\" class=\"data row5 col2\" >0.756250</td>\n",
       "            </tr>\n",
       "            <tr>\n",
       "                                <td id=\"T_4f36c_row6_col0\" class=\"data row6 col0\" >Macro Avergae Recall</td>\n",
       "                        <td id=\"T_4f36c_row6_col1\" class=\"data row6 col1\" >0.764697</td>\n",
       "                        <td id=\"T_4f36c_row6_col2\" class=\"data row6 col2\" >0.764697</td>\n",
       "            </tr>\n",
       "            <tr>\n",
       "                                <td id=\"T_4f36c_row7_col0\" class=\"data row7 col0\" >Weighted Avergae F1</td>\n",
       "                        <td id=\"T_4f36c_row7_col1\" class=\"data row7 col1\" >0.755072</td>\n",
       "                        <td id=\"T_4f36c_row7_col2\" class=\"data row7 col2\" >0.755072</td>\n",
       "            </tr>\n",
       "            <tr>\n",
       "                                <td id=\"T_4f36c_row8_col0\" class=\"data row8 col0\" >Macro Avergae F1</td>\n",
       "                        <td id=\"T_4f36c_row8_col1\" class=\"data row8 col1\" >0.756075</td>\n",
       "                        <td id=\"T_4f36c_row8_col2\" class=\"data row8 col2\" >0.756075</td>\n",
       "            </tr>\n",
       "    </tbody></table>"
      ],
      "text/plain": [
       "<pandas.io.formats.style.Styler at 0x7fc30a862550>"
      ]
     },
     "execution_count": 26,
     "metadata": {},
     "output_type": "execute_result"
    }
   ],
   "source": [
    "highlevel_df = pd.DataFrame([[\"Accuracy\", overall_accuracy, sklearn_accuracy], \n",
    "                             [\"Macro Precision\", macro_precision, sklearn_macro_precision], \n",
    "                             [\"Cohen Kappa\", kappa_value, sklearn_kappa_vaue],\n",
    "                             [\"Weighted Avergae Precision\", weighted_average_precision, sklearn_weighted_precision],\n",
    "                             [\"Macro Avergae Precision\", macro_precision, sklearn_macro_precision],\n",
    "                             [\"Weighted Avergae Recall\", weighted_average_recall, sklearn_weighted_recall],\n",
    "                             [\"Macro Avergae Recall\", macro_recall, sklearn_macro_recall],\n",
    "                             [\"Weighted Avergae F1\", weighted_average_f1, sklearn_weighted_f1],\n",
    "                             [\"Macro Avergae F1\", macro_average_f1, sklearn_macro_f1],\n",
    "                            ],\n",
    "                columns=['Evaluation Matrix', 'Manual Values', 'Skilearn Values'])\n",
    "\n",
    "highlevel_df.style.hide_index().set_properties(**{'text-align': 'left'})"
   ]
  },
  {
   "cell_type": "code",
   "execution_count": 27,
   "id": "joint-exclusion",
   "metadata": {
    "scrolled": false
   },
   "outputs": [
    {
     "name": "stdout",
     "output_type": "stream",
     "text": [
      "\u001b[1mManual high level report:\u001b[0m\n"
     ]
    },
    {
     "data": {
      "text/html": [
       "<style  type=\"text/css\" >\n",
       "#T_fee92_row0_col0,#T_fee92_row0_col1,#T_fee92_row0_col2,#T_fee92_row0_col3,#T_fee92_row1_col0,#T_fee92_row1_col1,#T_fee92_row1_col2,#T_fee92_row1_col3,#T_fee92_row2_col0,#T_fee92_row2_col1,#T_fee92_row2_col2,#T_fee92_row2_col3,#T_fee92_row3_col0,#T_fee92_row3_col1,#T_fee92_row3_col2,#T_fee92_row3_col3,#T_fee92_row4_col0,#T_fee92_row4_col1,#T_fee92_row4_col2,#T_fee92_row4_col3,#T_fee92_row5_col0,#T_fee92_row5_col1,#T_fee92_row5_col2,#T_fee92_row5_col3{\n",
       "            text-align:  right;\n",
       "        }</style><table id=\"T_fee92_\" ><thead>    <tr>        <th class=\"blank level0\" ></th>        <th class=\"col_heading level0 col0\" >Class 0</th>        <th class=\"col_heading level0 col1\" >Class 1</th>        <th class=\"col_heading level0 col2\" >Class 3</th>        <th class=\"col_heading level0 col3\" >Class 4</th>    </tr></thead><tbody>\n",
       "                <tr>\n",
       "                        <th id=\"T_fee92_level0_row0\" class=\"row_heading level0 row0\" >Actual Cases</th>\n",
       "                        <td id=\"T_fee92_row0_col0\" class=\"data row0 col0\" >49</td>\n",
       "                        <td id=\"T_fee92_row0_col1\" class=\"data row0 col1\" >36</td>\n",
       "                        <td id=\"T_fee92_row0_col2\" class=\"data row0 col2\" >40</td>\n",
       "                        <td id=\"T_fee92_row0_col3\" class=\"data row0 col3\" >35</td>\n",
       "            </tr>\n",
       "            <tr>\n",
       "                        <th id=\"T_fee92_level0_row1\" class=\"row_heading level0 row1\" >Total Samples</th>\n",
       "                        <td id=\"T_fee92_row1_col0\" class=\"data row1 col0\" >39</td>\n",
       "                        <td id=\"T_fee92_row1_col1\" class=\"data row1 col1\" >45</td>\n",
       "                        <td id=\"T_fee92_row1_col2\" class=\"data row1 col2\" >39</td>\n",
       "                        <td id=\"T_fee92_row1_col3\" class=\"data row1 col3\" >37</td>\n",
       "            </tr>\n",
       "            <tr>\n",
       "                        <th id=\"T_fee92_level0_row2\" class=\"row_heading level0 row2\" >TP</th>\n",
       "                        <td id=\"T_fee92_row2_col0\" class=\"data row2 col0\" >33</td>\n",
       "                        <td id=\"T_fee92_row2_col1\" class=\"data row2 col1\" >32</td>\n",
       "                        <td id=\"T_fee92_row2_col2\" class=\"data row2 col2\" >29</td>\n",
       "                        <td id=\"T_fee92_row2_col3\" class=\"data row2 col3\" >27</td>\n",
       "            </tr>\n",
       "            <tr>\n",
       "                        <th id=\"T_fee92_level0_row3\" class=\"row_heading level0 row3\" >FP</th>\n",
       "                        <td id=\"T_fee92_row3_col0\" class=\"data row3 col0\" >6</td>\n",
       "                        <td id=\"T_fee92_row3_col1\" class=\"data row3 col1\" >13</td>\n",
       "                        <td id=\"T_fee92_row3_col2\" class=\"data row3 col2\" >10</td>\n",
       "                        <td id=\"T_fee92_row3_col3\" class=\"data row3 col3\" >10</td>\n",
       "            </tr>\n",
       "            <tr>\n",
       "                        <th id=\"T_fee92_level0_row4\" class=\"row_heading level0 row4\" >TN</th>\n",
       "                        <td id=\"T_fee92_row4_col0\" class=\"data row4 col0\" >95</td>\n",
       "                        <td id=\"T_fee92_row4_col1\" class=\"data row4 col1\" >120</td>\n",
       "                        <td id=\"T_fee92_row4_col2\" class=\"data row4 col2\" >109</td>\n",
       "                        <td id=\"T_fee92_row4_col3\" class=\"data row4 col3\" >117</td>\n",
       "            </tr>\n",
       "            <tr>\n",
       "                        <th id=\"T_fee92_level0_row5\" class=\"row_heading level0 row5\" >FN</th>\n",
       "                        <td id=\"T_fee92_row5_col0\" class=\"data row5 col0\" >16</td>\n",
       "                        <td id=\"T_fee92_row5_col1\" class=\"data row5 col1\" >4</td>\n",
       "                        <td id=\"T_fee92_row5_col2\" class=\"data row5 col2\" >11</td>\n",
       "                        <td id=\"T_fee92_row5_col3\" class=\"data row5 col3\" >8</td>\n",
       "            </tr>\n",
       "    </tbody></table>"
      ],
      "text/plain": [
       "<pandas.io.formats.style.Styler at 0x7fc30bdc3a90>"
      ]
     },
     "execution_count": 27,
     "metadata": {},
     "output_type": "execute_result"
    }
   ],
   "source": [
    "print('\\033[1m' + 'Manual high level report:' + '\\033[0m')\n",
    "\n",
    "basic_df = pd.DataFrame(np.array(\n",
    "                    [actual_cases, predicted_cases, tp_cases, fp_cases, tn_cases, fn_cases]),\n",
    "                columns=['Class 0', 'Class 1', 'Class 3', 'Class 4'],\n",
    "                index = ['Actual Cases', 'Total Samples', 'TP', 'FP' , 'TN', 'FN'])\n",
    "\n",
    "basic_df.style.set_properties(**{'text-align': 'right'})\n",
    "\n"
   ]
  },
  {
   "cell_type": "code",
   "execution_count": 28,
   "id": "banned-packaging",
   "metadata": {
    "scrolled": false
   },
   "outputs": [
    {
     "name": "stdout",
     "output_type": "stream",
     "text": [
      "\u001b[1mManual rate computations report:\u001b[0m\n"
     ]
    },
    {
     "data": {
      "text/html": [
       "<style  type=\"text/css\" >\n",
       "#T_f31d7_row0_col0,#T_f31d7_row0_col1,#T_f31d7_row0_col2,#T_f31d7_row0_col3,#T_f31d7_row1_col0,#T_f31d7_row1_col1,#T_f31d7_row1_col2,#T_f31d7_row1_col3,#T_f31d7_row2_col0,#T_f31d7_row2_col1,#T_f31d7_row2_col2,#T_f31d7_row2_col3,#T_f31d7_row3_col0,#T_f31d7_row3_col1,#T_f31d7_row3_col2,#T_f31d7_row3_col3,#T_f31d7_row4_col0,#T_f31d7_row4_col1,#T_f31d7_row4_col2,#T_f31d7_row4_col3,#T_f31d7_row5_col0,#T_f31d7_row5_col1,#T_f31d7_row5_col2,#T_f31d7_row5_col3,#T_f31d7_row6_col0,#T_f31d7_row6_col1,#T_f31d7_row6_col2,#T_f31d7_row6_col3,#T_f31d7_row7_col0,#T_f31d7_row7_col1,#T_f31d7_row7_col2,#T_f31d7_row7_col3,#T_f31d7_row8_col0,#T_f31d7_row8_col1,#T_f31d7_row8_col2,#T_f31d7_row8_col3{\n",
       "            text-align:  right;\n",
       "        }</style><table id=\"T_f31d7_\" ><thead>    <tr>        <th class=\"blank level0\" ></th>        <th class=\"col_heading level0 col0\" >Class 0</th>        <th class=\"col_heading level0 col1\" >Class 1</th>        <th class=\"col_heading level0 col2\" >Class 3</th>        <th class=\"col_heading level0 col3\" >Class 4</th>    </tr></thead><tbody>\n",
       "                <tr>\n",
       "                        <th id=\"T_f31d7_level0_row0\" class=\"row_heading level0 row0\" >TPR</th>\n",
       "                        <td id=\"T_f31d7_row0_col0\" class=\"data row0 col0\" >0.673469</td>\n",
       "                        <td id=\"T_f31d7_row0_col1\" class=\"data row0 col1\" >0.888889</td>\n",
       "                        <td id=\"T_f31d7_row0_col2\" class=\"data row0 col2\" >0.725000</td>\n",
       "                        <td id=\"T_f31d7_row0_col3\" class=\"data row0 col3\" >0.771429</td>\n",
       "            </tr>\n",
       "            <tr>\n",
       "                        <th id=\"T_f31d7_level0_row1\" class=\"row_heading level0 row1\" >TNR</th>\n",
       "                        <td id=\"T_f31d7_row1_col0\" class=\"data row1 col0\" >0.940594</td>\n",
       "                        <td id=\"T_f31d7_row1_col1\" class=\"data row1 col1\" >0.902256</td>\n",
       "                        <td id=\"T_f31d7_row1_col2\" class=\"data row1 col2\" >0.915966</td>\n",
       "                        <td id=\"T_f31d7_row1_col3\" class=\"data row1 col3\" >0.921260</td>\n",
       "            </tr>\n",
       "            <tr>\n",
       "                        <th id=\"T_f31d7_level0_row2\" class=\"row_heading level0 row2\" >Type 1 Error</th>\n",
       "                        <td id=\"T_f31d7_row2_col0\" class=\"data row2 col0\" >0.059406</td>\n",
       "                        <td id=\"T_f31d7_row2_col1\" class=\"data row2 col1\" >0.097744</td>\n",
       "                        <td id=\"T_f31d7_row2_col2\" class=\"data row2 col2\" >0.084034</td>\n",
       "                        <td id=\"T_f31d7_row2_col3\" class=\"data row2 col3\" >0.078740</td>\n",
       "            </tr>\n",
       "            <tr>\n",
       "                        <th id=\"T_f31d7_level0_row3\" class=\"row_heading level0 row3\" >Type 2 Error</th>\n",
       "                        <td id=\"T_f31d7_row3_col0\" class=\"data row3 col0\" >0.326531</td>\n",
       "                        <td id=\"T_f31d7_row3_col1\" class=\"data row3 col1\" >0.111111</td>\n",
       "                        <td id=\"T_f31d7_row3_col2\" class=\"data row3 col2\" >0.275000</td>\n",
       "                        <td id=\"T_f31d7_row3_col3\" class=\"data row3 col3\" >0.228571</td>\n",
       "            </tr>\n",
       "            <tr>\n",
       "                        <th id=\"T_f31d7_level0_row4\" class=\"row_heading level0 row4\" >Precision</th>\n",
       "                        <td id=\"T_f31d7_row4_col0\" class=\"data row4 col0\" >0.846154</td>\n",
       "                        <td id=\"T_f31d7_row4_col1\" class=\"data row4 col1\" >0.711111</td>\n",
       "                        <td id=\"T_f31d7_row4_col2\" class=\"data row4 col2\" >0.743590</td>\n",
       "                        <td id=\"T_f31d7_row4_col3\" class=\"data row4 col3\" >0.729730</td>\n",
       "            </tr>\n",
       "            <tr>\n",
       "                        <th id=\"T_f31d7_level0_row5\" class=\"row_heading level0 row5\" >Recall</th>\n",
       "                        <td id=\"T_f31d7_row5_col0\" class=\"data row5 col0\" >0.673469</td>\n",
       "                        <td id=\"T_f31d7_row5_col1\" class=\"data row5 col1\" >0.888889</td>\n",
       "                        <td id=\"T_f31d7_row5_col2\" class=\"data row5 col2\" >0.725000</td>\n",
       "                        <td id=\"T_f31d7_row5_col3\" class=\"data row5 col3\" >0.771429</td>\n",
       "            </tr>\n",
       "            <tr>\n",
       "                        <th id=\"T_f31d7_level0_row6\" class=\"row_heading level0 row6\" >F1</th>\n",
       "                        <td id=\"T_f31d7_row6_col0\" class=\"data row6 col0\" >0.750000</td>\n",
       "                        <td id=\"T_f31d7_row6_col1\" class=\"data row6 col1\" >0.790123</td>\n",
       "                        <td id=\"T_f31d7_row6_col2\" class=\"data row6 col2\" >0.734177</td>\n",
       "                        <td id=\"T_f31d7_row6_col3\" class=\"data row6 col3\" >0.750000</td>\n",
       "            </tr>\n",
       "            <tr>\n",
       "                        <th id=\"T_f31d7_level0_row7\" class=\"row_heading level0 row7\" >F0.5</th>\n",
       "                        <td id=\"T_f31d7_row7_col0\" class=\"data row7 col0\" >0.804878</td>\n",
       "                        <td id=\"T_f31d7_row7_col1\" class=\"data row7 col1\" >0.740741</td>\n",
       "                        <td id=\"T_f31d7_row7_col2\" class=\"data row7 col2\" >0.739796</td>\n",
       "                        <td id=\"T_f31d7_row7_col3\" class=\"data row7 col3\" >0.737705</td>\n",
       "            </tr>\n",
       "            <tr>\n",
       "                        <th id=\"T_f31d7_level0_row8\" class=\"row_heading level0 row8\" >F2</th>\n",
       "                        <td id=\"T_f31d7_row8_col0\" class=\"data row8 col0\" >0.702128</td>\n",
       "                        <td id=\"T_f31d7_row8_col1\" class=\"data row8 col1\" >0.846561</td>\n",
       "                        <td id=\"T_f31d7_row8_col2\" class=\"data row8 col2\" >0.728643</td>\n",
       "                        <td id=\"T_f31d7_row8_col3\" class=\"data row8 col3\" >0.762712</td>\n",
       "            </tr>\n",
       "    </tbody></table>"
      ],
      "text/plain": [
       "<pandas.io.formats.style.Styler at 0x7fc30bdbeb80>"
      ]
     },
     "execution_count": 28,
     "metadata": {},
     "output_type": "execute_result"
    }
   ],
   "source": [
    "print('\\033[1m' + 'Manual rate computations report:' + '\\033[0m')\n",
    "\n",
    "rate_df = pd.DataFrame(np.array(\n",
    "                    [ tpr, tnr, fpr, fnr, precision, recall, f1, f05, f2]),\n",
    "                columns=['Class 0', 'Class 1', 'Class 3', 'Class 4'],\n",
    "                index = ['TPR', 'TNR', 'Type 1 Error', 'Type 2 Error','Precision', 'Recall', 'F1', 'F0.5', 'F2'])\n",
    "\n",
    "rate_df.style.set_properties(**{'text-align': 'right'})"
   ]
  },
  {
   "cell_type": "code",
   "execution_count": 29,
   "id": "integrated-mathematics",
   "metadata": {
    "scrolled": false
   },
   "outputs": [
    {
     "name": "stdout",
     "output_type": "stream",
     "text": [
      "\u001b[1mConsolidated scikit report:\u001b[0m\n",
      "              precision    recall  f1-score   support\n",
      "\n",
      "     Class 0       0.85      0.67      0.75        49\n",
      "     Class 1       0.71      0.89      0.79        36\n",
      "     Class 2       0.74      0.72      0.73        40\n",
      "     Class 3       0.73      0.77      0.75        35\n",
      "\n",
      "    accuracy                           0.76       160\n",
      "   macro avg       0.76      0.76      0.76       160\n",
      "weighted avg       0.76      0.76      0.76       160\n",
      "\n"
     ]
    }
   ],
   "source": [
    "print('\\033[1m' + 'Consolidated scikit report:' + '\\033[0m')\n",
    "print(sklearn_report)"
   ]
  }
 ],
 "metadata": {
  "kernelspec": {
   "display_name": "Python 3",
   "language": "python",
   "name": "python3"
  },
  "language_info": {
   "codemirror_mode": {
    "name": "ipython",
    "version": 3
   },
   "file_extension": ".py",
   "mimetype": "text/x-python",
   "name": "python",
   "nbconvert_exporter": "python",
   "pygments_lexer": "ipython3",
   "version": "3.8.8"
  }
 },
 "nbformat": 4,
 "nbformat_minor": 5
}
